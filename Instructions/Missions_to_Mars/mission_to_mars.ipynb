{
 "cells": [
  {
   "cell_type": "markdown",
   "source": [
    "<strong>NASA Mars News</strong> <BR>\r\n",
    "\r\n",
    "Scrape the Mars News Site and collect the latest News Title and Paragraph Text. Assign the text to variables that you can reference later."
   ],
   "metadata": {}
  },
  {
   "cell_type": "code",
   "execution_count": 4,
   "source": [
    "from splinter import Browser\r\n",
    "from bs4 import BeautifulSoup\r\n",
    "from webdriver_manager.chrome import ChromeDriverManager\r\n",
    "import pandas as pd\r\n",
    "import codecs"
   ],
   "outputs": [],
   "metadata": {}
  },
  {
   "cell_type": "code",
   "execution_count": 5,
   "source": [
    "executable_path = {'executable_path': ChromeDriverManager().install()}\r\n",
    "browser = Browser('chrome', **executable_path, headless=False)"
   ],
   "outputs": [
    {
     "output_type": "stream",
     "name": "stderr",
     "text": [
      "\n",
      "\n",
      "====== WebDriver manager ======\n",
      "Current google-chrome version is 92.0.4515\n",
      "Get LATEST driver version for 92.0.4515\n",
      "Get LATEST driver version for 92.0.4515\n",
      "Trying to download new driver from https://chromedriver.storage.googleapis.com/92.0.4515.107/chromedriver_win32.zip\n",
      "Driver has been saved in cache [C:\\Users\\Kevin\\.wdm\\drivers\\chromedriver\\win32\\92.0.4515.107]\n"
     ]
    }
   ],
   "metadata": {}
  },
  {
   "cell_type": "code",
   "execution_count": 6,
   "source": [
    "url = 'https://redplanetscience.com/'\r\n",
    "browser.visit(url)"
   ],
   "outputs": [],
   "metadata": {}
  },
  {
   "cell_type": "code",
   "execution_count": 7,
   "source": [
    "# HTML object\r\n",
    "html = browser.html\r\n",
    "# Parse HTML with Beautiful Soup\r\n",
    "soup = BeautifulSoup(html, 'html.parser')\r\n",
    "# Retrieve all elements that contain book information\r\n",
    "articles = soup.find_all('div', class_='col-md-8')\r\n",
    "\r\n",
    "# # Iterate through each book\r\n",
    "for article in articles:\r\n",
    "    # Use Beautiful Soup's find() method to navigate and retrieve attributes\r\n",
    "    news_date=article.find('div', class_=\"list_date\").text\r\n",
    "    news_title = article.find('div', class_=\"content_title\").text\r\n",
    "    news_p = article.find('div', class_=\"article_teaser_body\").text\r\n",
    "\r\n",
    "    print('-----------')\r\n",
    "    print(news_title)\r\n",
    "    print(news_p)\r\n",
    "    print(news_date)\r\n",
    "\r\n",
    "    break\r\n"
   ],
   "outputs": [
    {
     "output_type": "stream",
     "name": "stdout",
     "text": [
      "-----------\n",
      "NASA's New Mars Rover Is Ready for Space Lasers\n",
      "Perseverance is one of a few Mars spacecraft carrying laser retroreflectors. The devices could provide new science and safer Mars landings in the future.\n",
      "September 2, 2021\n"
     ]
    }
   ],
   "metadata": {}
  },
  {
   "cell_type": "markdown",
   "source": [
    "<strong>JPL Mars Space Images - Featured Image</strong>\r\n",
    "- Visit the url for the Featured Space Image page here.\r\n",
    "- Use splinter to navigate the site and find the image url for the current Featured Mars Image and assign the url string to a variable called featured_image_url.\r\n",
    "- Make sure to find the image url to the full size .jpg image.\r\n",
    "- Make sure to save a complete url string for this image."
   ],
   "metadata": {}
  },
  {
   "cell_type": "code",
   "execution_count": 8,
   "source": [
    "url = 'https://spaceimages-mars.com/'\r\n",
    "browser.visit(url)"
   ],
   "outputs": [],
   "metadata": {}
  },
  {
   "cell_type": "code",
   "execution_count": 9,
   "source": [
    "# HTML object\r\n",
    "html = browser.html\r\n",
    "# Parse HTML with Beautiful Soup\r\n",
    "soup = BeautifulSoup(html, 'html.parser')\r\n",
    "# Retrieve all elements that contain book information\r\n",
    "images = soup.find_all('a', class_='fancybox-thumbs')\r\n",
    "\r\n",
    "# # Iterate through each book\r\n",
    "for image in images:\r\n",
    "    # Use Beautiful Soup's find() method to navigate and retrieve attributes\r\n",
    "    featured_image_url=f\"https://spaceimages-mars.com/{image['href']}\"\r\n",
    "\r\n",
    "    print(featured_image_url)\r\n",
    "\r\n",
    "    break"
   ],
   "outputs": [
    {
     "output_type": "stream",
     "name": "stdout",
     "text": [
      "https://spaceimages-mars.com/image/featured/mars2.jpg\n"
     ]
    }
   ],
   "metadata": {}
  },
  {
   "cell_type": "markdown",
   "source": [
    "<strong>Mars Facts</strong>\r\n",
    "- Visit the Mars Facts webpage here and use Pandas to scrape the table containing facts about the planet including Diameter, Mass, etc.\r\n",
    "- Use Pandas to convert the data to a HTML table string."
   ],
   "metadata": {}
  },
  {
   "cell_type": "code",
   "execution_count": 10,
   "source": [
    "url = 'https://galaxyfacts-mars.com/'"
   ],
   "outputs": [],
   "metadata": {}
  },
  {
   "cell_type": "code",
   "execution_count": 11,
   "source": [
    "tables=pd.read_html(url)"
   ],
   "outputs": [],
   "metadata": {}
  },
  {
   "cell_type": "code",
   "execution_count": 12,
   "source": [
    "mars_fact_df=tables[0]"
   ],
   "outputs": [],
   "metadata": {}
  },
  {
   "cell_type": "code",
   "execution_count": 13,
   "source": [
    "column_name=[mars_fact_df.iloc[0][x] for x in range(len(mars_fact_df.iloc[0]))]\r\n",
    "mars_fact_df.columns=column_name\r\n",
    "mars_fact_df=mars_fact_df.iloc[1:,:]"
   ],
   "outputs": [],
   "metadata": {}
  },
  {
   "cell_type": "code",
   "execution_count": 14,
   "source": [
    "mars_fact_df.to_html('templates/mars_fact_table.html', index=False)"
   ],
   "outputs": [],
   "metadata": {}
  },
  {
   "cell_type": "code",
   "execution_count": 27,
   "source": [
    "file = codecs.open(\"templates/mars_fact_table.html\", \"r\", \"utf-8\")\r\n",
    "mars_fact_table=file.read()"
   ],
   "outputs": [],
   "metadata": {}
  },
  {
   "cell_type": "markdown",
   "source": [
    "<strong>Mars Hemispheres</strong>\r\n",
    "- Visit the Astrogeology site here to obtain high resolution images for each of Mar's hemispheres.\r\n",
    "- You will need to click each of the links to the hemispheres in order to find the image url to the full resolution image.\r\n",
    "- Save both the image url string for the full resolution hemisphere image, and the Hemisphere title containing the hemisphere name. Use a Python dictionary to store the data using the keys img_url and title.\r\n",
    "- Append the dictionary with the image url string and the hemisphere title to a list. This list will contain one dictionary for each hemisphere."
   ],
   "metadata": {}
  },
  {
   "cell_type": "code",
   "execution_count": 15,
   "source": [
    "url = 'https://marshemispheres.com/'\r\n",
    "browser.visit(url)"
   ],
   "outputs": [],
   "metadata": {}
  },
  {
   "cell_type": "code",
   "execution_count": 16,
   "source": [
    "url_list=[]\r\n",
    "hemisphere_title_list=[]\r\n",
    "\r\n",
    "# HTML object\r\n",
    "html = browser.html\r\n",
    "# Parse HTML with Beautiful Soup\r\n",
    "soup = BeautifulSoup(html, 'html.parser')\r\n",
    "# Retrieve all elements that contain book information\r\n",
    "hemisphere_articles = soup.find_all('div', class_='description')\r\n",
    "\r\n",
    "# Iterate through each book\r\n",
    "for hemisphere_article in hemisphere_articles:\r\n",
    "    # Use Beautiful Soup's find() method to navigate and retrieve attributes\r\n",
    "    url_string = hemisphere_article.a['href']\r\n",
    "    url_list.append(f\"https://marshemispheres.com/{url_string}\")\r\n",
    "    title_string= hemisphere_article.a.h3.text\r\n",
    "    hemisphere_title_list.append(title_string)\r\n",
    "    print('-----------')\r\n",
    "    print(title_string)\r\n",
    "    print('https://marshemispheres.com/' + url_string)\r\n",
    "\r\n"
   ],
   "outputs": [
    {
     "output_type": "stream",
     "name": "stdout",
     "text": [
      "-----------\n",
      "Cerberus Hemisphere Enhanced\n",
      "https://marshemispheres.com/cerberus.html\n",
      "-----------\n",
      "Schiaparelli Hemisphere Enhanced\n",
      "https://marshemispheres.com/schiaparelli.html\n",
      "-----------\n",
      "Syrtis Major Hemisphere Enhanced\n",
      "https://marshemispheres.com/syrtis.html\n",
      "-----------\n",
      "Valles Marineris Hemisphere Enhanced\n",
      "https://marshemispheres.com/valles.html\n"
     ]
    }
   ],
   "metadata": {}
  },
  {
   "cell_type": "code",
   "execution_count": 17,
   "source": [
    "print(url_list)\r\n",
    "print(hemisphere_title_list)"
   ],
   "outputs": [
    {
     "output_type": "stream",
     "name": "stdout",
     "text": [
      "['https://marshemispheres.com/cerberus.html', 'https://marshemispheres.com/schiaparelli.html', 'https://marshemispheres.com/syrtis.html', 'https://marshemispheres.com/valles.html']\n",
      "['Cerberus Hemisphere Enhanced', 'Schiaparelli Hemisphere Enhanced', 'Syrtis Major Hemisphere Enhanced', 'Valles Marineris Hemisphere Enhanced']\n"
     ]
    }
   ],
   "metadata": {}
  },
  {
   "cell_type": "code",
   "execution_count": 18,
   "source": [
    "hemisphere_image_list=[]\r\n",
    "\r\n",
    "for urls in url_list:\r\n",
    "    url=urls\r\n",
    "    browser.visit(url)\r\n",
    "    # HTML object\r\n",
    "    html = browser.html\r\n",
    "    # Parse HTML with Beautiful Soup\r\n",
    "    soup = BeautifulSoup(html, 'html.parser')\r\n",
    "    # Retrieve all elements that contain book information\r\n",
    "    hemisphere_images = soup.find_all('ul')\r\n",
    "    hemisphere_image_list.append(f\"https://marshemispheres.com/{hemisphere_images[0].find('a')['href']}\")\r\n"
   ],
   "outputs": [],
   "metadata": {}
  },
  {
   "cell_type": "code",
   "execution_count": 19,
   "source": [
    "hemisphere_image_urls = [\r\n",
    "    {\"title\": hemisphere_title_list[0], \"img_url\": hemisphere_image_list[0]},\r\n",
    "    {\"title\": hemisphere_title_list[1], \"img_url\": hemisphere_image_list[1]},\r\n",
    "    {\"title\": hemisphere_title_list[2], \"img_url\": hemisphere_image_list[2]},\r\n",
    "    {\"title\": hemisphere_title_list[3], \"img_url\": hemisphere_image_list[3]},\r\n",
    "]\r\n"
   ],
   "outputs": [],
   "metadata": {}
  },
  {
   "cell_type": "code",
   "execution_count": 20,
   "source": [
    "browser.quit()"
   ],
   "outputs": [],
   "metadata": {}
  },
  {
   "cell_type": "code",
   "execution_count": 21,
   "source": [
    "mars_fact_df"
   ],
   "outputs": [
    {
     "output_type": "execute_result",
     "data": {
      "text/plain": [
       "  Mars - Earth Comparison             Mars            Earth\n",
       "1               Diameter:         6,779 km        12,742 km\n",
       "2                   Mass:  6.39 × 10^23 kg  5.97 × 10^24 kg\n",
       "3                  Moons:                2                1\n",
       "4      Distance from Sun:   227,943,824 km   149,598,262 km\n",
       "5         Length of Year:   687 Earth days      365.24 days\n",
       "6            Temperature:     -87 to -5 °C      -88 to 58°C"
      ],
      "text/html": [
       "<div>\n",
       "<style scoped>\n",
       "    .dataframe tbody tr th:only-of-type {\n",
       "        vertical-align: middle;\n",
       "    }\n",
       "\n",
       "    .dataframe tbody tr th {\n",
       "        vertical-align: top;\n",
       "    }\n",
       "\n",
       "    .dataframe thead th {\n",
       "        text-align: right;\n",
       "    }\n",
       "</style>\n",
       "<table border=\"1\" class=\"dataframe\">\n",
       "  <thead>\n",
       "    <tr style=\"text-align: right;\">\n",
       "      <th></th>\n",
       "      <th>Mars - Earth Comparison</th>\n",
       "      <th>Mars</th>\n",
       "      <th>Earth</th>\n",
       "    </tr>\n",
       "  </thead>\n",
       "  <tbody>\n",
       "    <tr>\n",
       "      <th>1</th>\n",
       "      <td>Diameter:</td>\n",
       "      <td>6,779 km</td>\n",
       "      <td>12,742 km</td>\n",
       "    </tr>\n",
       "    <tr>\n",
       "      <th>2</th>\n",
       "      <td>Mass:</td>\n",
       "      <td>6.39 × 10^23 kg</td>\n",
       "      <td>5.97 × 10^24 kg</td>\n",
       "    </tr>\n",
       "    <tr>\n",
       "      <th>3</th>\n",
       "      <td>Moons:</td>\n",
       "      <td>2</td>\n",
       "      <td>1</td>\n",
       "    </tr>\n",
       "    <tr>\n",
       "      <th>4</th>\n",
       "      <td>Distance from Sun:</td>\n",
       "      <td>227,943,824 km</td>\n",
       "      <td>149,598,262 km</td>\n",
       "    </tr>\n",
       "    <tr>\n",
       "      <th>5</th>\n",
       "      <td>Length of Year:</td>\n",
       "      <td>687 Earth days</td>\n",
       "      <td>365.24 days</td>\n",
       "    </tr>\n",
       "    <tr>\n",
       "      <th>6</th>\n",
       "      <td>Temperature:</td>\n",
       "      <td>-87 to -5 °C</td>\n",
       "      <td>-88 to 58°C</td>\n",
       "    </tr>\n",
       "  </tbody>\n",
       "</table>\n",
       "</div>"
      ]
     },
     "metadata": {},
     "execution_count": 21
    }
   ],
   "metadata": {}
  },
  {
   "cell_type": "code",
   "execution_count": 28,
   "source": [
    "mars_data= {\r\n",
    "    \"news_title\":news_title,\r\n",
    "    \"news_p\":news_p,\r\n",
    "    \"featured_image_url\":featured_image_url,\r\n",
    "    \"mars_fact\":mars_fact_table,\r\n",
    "    \"hemisphere_image_urls\":hemisphere_image_urls\r\n",
    "    }"
   ],
   "outputs": [],
   "metadata": {}
  }
 ],
 "metadata": {
  "orig_nbformat": 4,
  "language_info": {
   "name": "python",
   "version": "3.6.10",
   "mimetype": "text/x-python",
   "codemirror_mode": {
    "name": "ipython",
    "version": 3
   },
   "pygments_lexer": "ipython3",
   "nbconvert_exporter": "python",
   "file_extension": ".py"
  },
  "kernelspec": {
   "name": "python3",
   "display_name": "Python 3.6.10 64-bit ('PythonData': conda)"
  },
  "interpreter": {
   "hash": "6b71ca6b95ad0b69e06a4c6e36321db20af4ee56b4afd01d46f3a8600b2487b4"
  }
 },
 "nbformat": 4,
 "nbformat_minor": 2
}